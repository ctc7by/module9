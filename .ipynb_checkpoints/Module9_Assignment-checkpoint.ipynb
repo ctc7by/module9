{
 "cells": [
  {
   "cell_type": "markdown",
   "metadata": {},
   "source": [
    "# Module 9 Assignment #\n",
    "CS5010: Unix Commands   \n",
    "Submitted by:  \n",
    "Christina Torres Cabbell (ctc7by)\n",
    "\n",
    "*Run in Ubuntu Virtual Desktop for Windows*"
   ]
  },
  {
   "cell_type": "markdown",
   "metadata": {},
   "source": [
    "**1. Print your name on terminal**"
   ]
  },
  {
   "cell_type": "code",
   "execution_count": 1,
   "metadata": {},
   "outputs": [
    {
     "name": "stdout",
     "output_type": "stream",
     "text": [
      "Christina\r\n"
     ]
    }
   ],
   "source": [
    "myname = \"Christina\"\n",
    "!echo {myname}"
   ]
  },
  {
   "cell_type": "markdown",
   "metadata": {},
   "source": [
    "**2. Print your working directory**"
   ]
  },
  {
   "cell_type": "code",
   "execution_count": 2,
   "metadata": {},
   "outputs": [
    {
     "data": {
      "text/plain": [
       "'/home/ctc7by/Documents/uva/cs5010/module9'"
      ]
     },
     "execution_count": 2,
     "metadata": {},
     "output_type": "execute_result"
    }
   ],
   "source": [
    "pwd"
   ]
  },
  {
   "cell_type": "markdown",
   "metadata": {},
   "source": [
    "**3.Set your working dir to your home dir with three different commands**"
   ]
  },
  {
   "cell_type": "code",
   "execution_count": 3,
   "metadata": {},
   "outputs": [
    {
     "name": "stdout",
     "output_type": "stream",
     "text": [
      "/home/ctc7by\n",
      "/home/ctc7by\n",
      "/home/ctc7by\n"
     ]
    }
   ],
   "source": [
    "# command 1\n",
    "%cd ../../../../\n",
    "# command 2\n",
    "%cd ~\n",
    "# command 3\n",
    "%cd '/home/ctc7by/'"
   ]
  },
  {
   "cell_type": "markdown",
   "metadata": {},
   "source": [
    "**4. Change your directory to the directory of your Jupyter notebook**"
   ]
  },
  {
   "cell_type": "code",
   "execution_count": 4,
   "metadata": {},
   "outputs": [
    {
     "name": "stdout",
     "output_type": "stream",
     "text": [
      "/home/ctc7by/Documents/uva/cs5010/module9\n"
     ]
    }
   ],
   "source": [
    "%cd '/home/ctc7by/Documents/uva/cs5010/module9'"
   ]
  },
  {
   "cell_type": "markdown",
   "metadata": {},
   "source": [
    "**5. Use touch to make a txt file and write hello world in that file using output redirection: >. Append your name by >>.**"
   ]
  },
  {
   "cell_type": "code",
   "execution_count": 5,
   "metadata": {},
   "outputs": [],
   "source": [
    "# create new txt file\n",
    "!touch tmp.txt"
   ]
  },
  {
   "cell_type": "code",
   "execution_count": 6,
   "metadata": {},
   "outputs": [
    {
     "name": "stdout",
     "output_type": "stream",
     "text": [
      "Module9_Assignment.ipynb  README.md  tmp.txt\r\n"
     ]
    }
   ],
   "source": [
    "# check to see that the file is there\n",
    "!ls"
   ]
  },
  {
   "cell_type": "code",
   "execution_count": 7,
   "metadata": {},
   "outputs": [],
   "source": [
    "string1 = 'hello world'\n",
    "string2 = 'Christina'\n",
    "!echo {string1} > tmp.txt\n",
    "!echo {string2} >> tmp.txt"
   ]
  },
  {
   "cell_type": "markdown",
   "metadata": {},
   "source": [
    "**6. Show the contents of the file on the screen (use the address of the file)**"
   ]
  },
  {
   "cell_type": "code",
   "execution_count": 8,
   "metadata": {},
   "outputs": [
    {
     "name": "stdout",
     "output_type": "stream",
     "text": [
      "hello world\r\n",
      "Christina\r\n"
     ]
    }
   ],
   "source": [
    "cat '/home/ctc7by/Documents/uva/cs5010/module9/tmp.txt'"
   ]
  },
  {
   "cell_type": "markdown",
   "metadata": {},
   "source": [
    "**7. Apply commands wc and cat on your txt file and explain what they do (if your txt file is big use less instead of cat)**"
   ]
  },
  {
   "cell_type": "code",
   "execution_count": 9,
   "metadata": {},
   "outputs": [
    {
     "name": "stdout",
     "output_type": "stream",
     "text": [
      " 2  3 22 /home/ctc7by/Documents/uva/cs5010/module9/tmp.txt\n",
      "hello world\n",
      "Christina\n"
     ]
    }
   ],
   "source": [
    "!wc '/home/ctc7by/Documents/uva/cs5010/module9/tmp.txt'\n",
    "!cat '/home/ctc7by/Documents/uva/cs5010/module9/tmp.txt'"
   ]
  },
  {
   "cell_type": "markdown",
   "metadata": {},
   "source": [
    "**Answer**  \n",
    "- *wc* shows the number of lines, number of words, number of bytes and filename.  \n",
    "- *cat* allows us to view the contents of a file or concatenate files and redirect output to terminal or files."
   ]
  },
  {
   "cell_type": "markdown",
   "metadata": {},
   "source": [
    "**8. Use curl to download a dataset from the web. make a new folder inside your current directory and cd in that directory and move the downloaded file to this new directory.**"
   ]
  },
  {
   "cell_type": "code",
   "execution_count": 10,
   "metadata": {},
   "outputs": [
    {
     "name": "stdout",
     "output_type": "stream",
     "text": [
      "  % Total    % Received % Xferd  Average Speed   Time    Time     Time  Current\n",
      "                                 Dload  Upload   Total   Spent    Left  Speed\n",
      "100  259k  100  259k    0     0   807k      0 --:--:-- --:--:-- --:--:--  807k\n"
     ]
    }
   ],
   "source": [
    "!curl https://raw.githubusercontent.com/serve-and-volley/atp-world-tour-tennis-data/master/csv/1_tournaments/tournaments_2010-2019.csv -o 'tournaments.csv'"
   ]
  },
  {
   "cell_type": "code",
   "execution_count": 11,
   "metadata": {},
   "outputs": [],
   "source": [
    "# make new directory\n",
    "!mkdir tennis"
   ]
  },
  {
   "cell_type": "code",
   "execution_count": 12,
   "metadata": {},
   "outputs": [],
   "source": [
    "# move file to new directory\n",
    "!mv tournaments.csv tennis"
   ]
  },
  {
   "cell_type": "markdown",
   "metadata": {},
   "source": [
    "**9. Apply head -n 5 {} to print the first 5 lines of your file (tail is similar)**"
   ]
  },
  {
   "cell_type": "code",
   "execution_count": 13,
   "metadata": {},
   "outputs": [
    {
     "name": "stdout",
     "output_type": "stream",
     "text": [
      "2010-339,1,ATP 250,Brisbane,339,brisbane,Brisbane,2010.01.03,2010,1,3,32,16,Outdoor,Hard,\"$424,250\",USD,424250,/en/scores/archive/brisbane/339/2010/results,Andy Roddick,/en/players/andy-roddick/r485/overview,andy-roddick,r485,Jeremy Chardy,/en/players/jeremy-chardy/ca12/overview,jeremy-chardy,ca12,Marc Gicquel,/en/players/marc-gicquel/g436/overview,marc-gicquel,g436\r",
      "\r\n",
      "2010-451,2,ATP 250,Doha,451,doha,Doha,2010.01.04,2010,1,4,32,16,Outdoor,Hard,\"$1,110,250\",USD,1110250,/en/scores/archive/doha/451/2010/results,Nikolay Davydenko,/en/players/nikolay-davydenko/d402/overview,nikolay-davydenko,d402,Guillermo Garcia-Lopez,/en/players/guillermo-garcia-lopez/g476/overview,guillermo-garcia-lopez,g476,Albert Montanes,/en/players/albert-montanes/m824/overview,albert-montanes,m824\r",
      "\r\n",
      "2010-891,3,ATP 250,Chennai,891,chennai,Chennai,2010.01.04,2010,1,4,32,16,Outdoor,Hard,\"$450,000\",USD,450000,/en/scores/archive/chennai/891/2010/results,Marin Cilic,/en/players/marin-cilic/c977/overview,marin-cilic,c977,Marcel Granollers,/en/players/marcel-granollers/g710/overview,marcel-granollers,g710,Santiago Ventura,/en/players/santiago-ventura/v251/overview,santiago-ventura,v251\r",
      "\r\n",
      "2010-338,4,ATP 250,Sydney,338,sydney,Sydney,2010.01.11,2010,1,11,28,16,Outdoor,Hard,\"$424,250\",USD,424250,/en/scores/archive/sydney/338/2010/results,Marcos Baghdatis,/en/players/marcos-baghdatis/b837/overview,marcos-baghdatis,b837,Daniel Nestor,/en/players/daniel-nestor/n210/overview,daniel-nestor,n210,Nenad Zimonjic,/en/players/nenad-zimonjic/z072/overview,nenad-zimonjic,z072\r",
      "\r\n",
      "2010-301,5,ATP 250,Auckland,301,auckland,Auckland,2010.01.11,2010,1,11,28,16,Outdoor,Hard,\"$407,250\",USD,407250,/en/scores/archive/auckland/301/2010/results,John Isner,/en/players/john-isner/i186/overview,john-isner,i186,Marcus Daniell,/en/players/marcus-daniell/d763/overview,marcus-daniell,d763,Horia Tecau,/en/players/horia-tecau/t749/overview,horia-tecau,t749\r",
      "\r\n"
     ]
    }
   ],
   "source": [
    "!head -n 5 {'tennis/tournaments.csv'}"
   ]
  },
  {
   "cell_type": "markdown",
   "metadata": {},
   "source": [
    "**10. Since you know how to use git; write a bash command where you commit the changes in your code with a comment and then push it to a remote Github repository.**"
   ]
  },
  {
   "cell_type": "code",
   "execution_count": 14,
   "metadata": {},
   "outputs": [
    {
     "name": "stdout",
     "output_type": "stream",
     "text": [
      "On branch master\r\n",
      "Your branch is up to date with 'origin/master'.\r\n",
      "\r\n",
      "Untracked files:\r\n",
      "  (use \"git add <file>...\" to include in what will be committed)\r\n",
      "\r\n",
      "\t\u001b[31mModule9_Assignment.ipynb\u001b[m\r\n",
      "\t\u001b[31mtennis/\u001b[m\r\n",
      "\t\u001b[31mtmp.txt\u001b[m\r\n",
      "\r\n",
      "nothing added to commit but untracked files present (use \"git add\" to track)\r\n"
     ]
    }
   ],
   "source": [
    "# check git status\n",
    "!git status"
   ]
  },
  {
   "cell_type": "code",
   "execution_count": null,
   "metadata": {},
   "outputs": [
    {
     "name": "stdout",
     "output_type": "stream",
     "text": [
      "error: unable to create temporary file: No space left on device\n",
      "error: Module9_Assignment.ipynb: failed to insert into database\n",
      "error: unable to index file Module9_Assignment.ipynb\n",
      "fatal: updating files failed\n",
      "On branch master\n",
      "Your branch is ahead of 'origin/master' by 3 commits.\n",
      "  (use \"git push\" to publish your local commits)\n",
      "\n",
      "Changes not staged for commit:\n",
      "\t\u001b[31mmodified:   Module9_Assignment.ipynb\u001b[m\n",
      "\n",
      "no changes added to commit\n",
      "Username for 'https://github.com': "
     ]
    }
   ],
   "source": [
    "# add files to commit\n",
    "!git add -A\n",
    "# commit files with comment\n",
    "!git commit -m \"Adding assignment files for module 9\"\n",
    "# push to github\n",
    "!git push"
   ]
  },
  {
   "cell_type": "code",
   "execution_count": null,
   "metadata": {},
   "outputs": [],
   "source": []
  }
 ],
 "metadata": {
  "kernelspec": {
   "display_name": "Python 3",
   "language": "python",
   "name": "python3"
  },
  "language_info": {
   "codemirror_mode": {
    "name": "ipython",
    "version": 3
   },
   "file_extension": ".py",
   "mimetype": "text/x-python",
   "name": "python",
   "nbconvert_exporter": "python",
   "pygments_lexer": "ipython3",
   "version": "3.7.6"
  }
 },
 "nbformat": 4,
 "nbformat_minor": 4
}
