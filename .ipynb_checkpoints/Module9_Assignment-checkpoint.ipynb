{
 "cells": [
  {
   "cell_type": "markdown",
   "metadata": {},
   "source": [
    "# Module 9 Assignment #\n",
    "CS5010: Unix Commands   \n",
    "Submitted by:  \n",
    "Christina Torres Cabbell (ctc7by)\n",
    "\n",
    "*Run in Ubuntu Virtual Desktop for Windows*"
   ]
  },
  {
   "cell_type": "markdown",
   "metadata": {},
   "source": [
    "**1. Print your name on terminal**"
   ]
  },
  {
   "cell_type": "code",
   "execution_count": 1,
   "metadata": {},
   "outputs": [
    {
     "name": "stdout",
     "output_type": "stream",
     "text": [
      "Christina\r\n"
     ]
    }
   ],
   "source": [
    "myname = \"Christina\"\n",
    "!echo {myname}"
   ]
  },
  {
   "cell_type": "markdown",
   "metadata": {},
   "source": [
    "**2. Print your working directory**"
   ]
  },
  {
   "cell_type": "code",
   "execution_count": 2,
   "metadata": {},
   "outputs": [
    {
     "data": {
      "text/plain": [
       "'/home/ctc7by/Documents/uva/cs5010/module9'"
      ]
     },
     "execution_count": 2,
     "metadata": {},
     "output_type": "execute_result"
    }
   ],
   "source": [
    "pwd"
   ]
  },
  {
   "cell_type": "markdown",
   "metadata": {},
   "source": [
    "**3.Set your working dir to your home dir with three different commands**"
   ]
  },
  {
   "cell_type": "code",
   "execution_count": 3,
   "metadata": {},
   "outputs": [
    {
     "name": "stdout",
     "output_type": "stream",
     "text": [
      "/home/ctc7by\n",
      "/home/ctc7by\n",
      "/home/ctc7by\n"
     ]
    }
   ],
   "source": [
    "# command 1\n",
    "%cd ../../../../\n",
    "# command 2\n",
    "%cd ~\n",
    "# command 3\n",
    "%cd '/home/ctc7by/'"
   ]
  },
  {
   "cell_type": "markdown",
   "metadata": {},
   "source": [
    "**4. Change your directory to the directory of your Jupyter notebook**"
   ]
  },
  {
   "cell_type": "code",
   "execution_count": 4,
   "metadata": {},
   "outputs": [
    {
     "name": "stdout",
     "output_type": "stream",
     "text": [
      "/home/ctc7by/Documents/uva/cs5010/module9\n"
     ]
    }
   ],
   "source": [
    "%cd '/home/ctc7by/Documents/uva/cs5010/module9'"
   ]
  },
  {
   "cell_type": "markdown",
   "metadata": {},
   "source": [
    "**5. Use touch to make a txt file and write hello world in that file using output redirection: >. Append your name by >>.**"
   ]
  },
  {
   "cell_type": "code",
   "execution_count": 5,
   "metadata": {},
   "outputs": [],
   "source": [
    "# create new txt file\n",
    "!touch tmp.txt"
   ]
  },
  {
   "cell_type": "code",
   "execution_count": 6,
   "metadata": {},
   "outputs": [
    {
     "name": "stdout",
     "output_type": "stream",
     "text": [
      "Module9_Assignment.ipynb  README.md  tmp.txt\r\n"
     ]
    }
   ],
   "source": [
    "# check to see that the file is there\n",
    "!ls"
   ]
  },
  {
   "cell_type": "code",
   "execution_count": 7,
   "metadata": {},
   "outputs": [],
   "source": [
    "string1 = 'hello world'\n",
    "string2 = 'Christina'\n",
    "!echo {string1} > tmp.txt\n",
    "!echo {string2} >> tmp.txt"
   ]
  },
  {
   "cell_type": "markdown",
   "metadata": {},
   "source": [
    "**6. Show the contents of the file on the screen (use the address of the file)**"
   ]
  },
  {
   "cell_type": "code",
   "execution_count": 8,
   "metadata": {},
   "outputs": [
    {
     "name": "stdout",
     "output_type": "stream",
     "text": [
      "hello world\r\n",
      "Christina\r\n"
     ]
    }
   ],
   "source": [
    "cat '/home/ctc7by/Documents/uva/cs5010/module9/tmp.txt'"
   ]
  },
  {
   "cell_type": "markdown",
   "metadata": {},
   "source": [
    "**7. Apply commands wc and cat on your txt file and explain what they do (if your txt file is big use less instead of cat)**"
   ]
  },
  {
   "cell_type": "code",
   "execution_count": 9,
   "metadata": {},
   "outputs": [
    {
     "name": "stdout",
     "output_type": "stream",
     "text": [
      " 2  3 22 /home/ctc7by/Documents/uva/cs5010/module9/tmp.txt\n",
      "hello world\n",
      "Christina\n"
     ]
    }
   ],
   "source": [
    "!wc '/home/ctc7by/Documents/uva/cs5010/module9/tmp.txt'\n",
    "!cat '/home/ctc7by/Documents/uva/cs5010/module9/tmp.txt'"
   ]
  },
  {
   "cell_type": "markdown",
   "metadata": {},
   "source": [
    "**Answer**  \n",
    "- *wc* shows the number of lines, number of words, number of bytes and filename.  \n",
    "- *cat* allows us to view the contents of a file or concatenate files and redirect output to terminal or files."
   ]
  },
  {
   "cell_type": "markdown",
   "metadata": {},
   "source": [
    "**8. Use curl to download a dataset from the web. make a new folder inside your current directory and cd in that directory and move the downloaded file to this new directory.**"
   ]
  },
  {
   "cell_type": "code",
   "execution_count": 10,
   "metadata": {},
   "outputs": [
    {
     "name": "stdout",
     "output_type": "stream",
     "text": [
      "  % Total    % Received % Xferd  Average Speed   Time    Time     Time  Current\n",
      "                                 Dload  Upload   Total   Spent    Left  Speed\n",
      "100  259k  100  259k    0     0   807k      0 --:--:-- --:--:-- --:--:--  807k\n"
     ]
    }
   ],
   "source": [
    "!curl https://raw.githubusercontent.com/serve-and-volley/atp-world-tour-tennis-data/master/csv/1_tournaments/tournaments_2010-2019.csv -o 'tournaments.csv'"
   ]
  },
  {
   "cell_type": "code",
   "execution_count": 11,
   "metadata": {},
   "outputs": [],
   "source": [
    "# make new directory\n",
    "!mkdir tennis"
   ]
  },
  {
   "cell_type": "code",
   "execution_count": 12,
   "metadata": {},
   "outputs": [],
   "source": [
    "# move file to new directory\n",
    "!mv tournaments.csv tennis"
   ]
  },
  {
   "cell_type": "markdown",
   "metadata": {},
   "source": [
    "**9. Apply head -n 5 {} to print the first 5 lines of your file (tail is similar)**"
   ]
  },
  {
   "cell_type": "code",
   "execution_count": 19,
   "metadata": {},
   "outputs": [
    {
     "name": "stdout",
     "output_type": "stream",
     "text": [
      "['2010-339,1,ATP 250,Brisbane,339,brisbane,Brisbane,2010.01.03,2010,1,3,32,16,Outdoor,Hard,\"$424,250\",USD,424250,/en/scores/archive/brisbane/339/2010/results,Andy Roddick,/en/players/andy-roddick/r485/overview,andy-roddick,r485,Jeremy Chardy,/en/players/jeremy-chardy/ca12/overview,jeremy-chardy,ca12,Marc Gicquel,/en/players/marc-gicquel/g436/overview,marc-gicquel,g436', '2010-451,2,ATP 250,Doha,451,doha,Doha,2010.01.04,2010,1,4,32,16,Outdoor,Hard,\"$1,110,250\",USD,1110250,/en/scores/archive/doha/451/2010/results,Nikolay Davydenko,/en/players/nikolay-davydenko/d402/overview,nikolay-davydenko,d402,Guillermo Garcia-Lopez,/en/players/guillermo-garcia-lopez/g476/overview,guillermo-garcia-lopez,g476,Albert Montanes,/en/players/albert-montanes/m824/overview,albert-montanes,m824', '2010-891,3,ATP 250,Chennai,891,chennai,Chennai,2010.01.04,2010,1,4,32,16,Outdoor,Hard,\"$450,000\",USD,450000,/en/scores/archive/chennai/891/2010/results,Marin Cilic,/en/players/marin-cilic/c977/overview,marin-cilic,c977,Marcel Granollers,/en/players/marcel-granollers/g710/overview,marcel-granollers,g710,Santiago Ventura,/en/players/santiago-ventura/v251/overview,santiago-ventura,v251', '2010-338,4,ATP 250,Sydney,338,sydney,Sydney,2010.01.11,2010,1,11,28,16,Outdoor,Hard,\"$424,250\",USD,424250,/en/scores/archive/sydney/338/2010/results,Marcos Baghdatis,/en/players/marcos-baghdatis/b837/overview,marcos-baghdatis,b837,Daniel Nestor,/en/players/daniel-nestor/n210/overview,daniel-nestor,n210,Nenad Zimonjic,/en/players/nenad-zimonjic/z072/overview,nenad-zimonjic,z072', '2010-301,5,ATP 250,Auckland,301,auckland,Auckland,2010.01.11,2010,1,11,28,16,Outdoor,Hard,\"$407,250\",USD,407250,/en/scores/archive/auckland/301/2010/results,John Isner,/en/players/john-isner/i186/overview,john-isner,i186,Marcus Daniell,/en/players/marcus-daniell/d763/overview,marcus-daniell,d763,Horia Tecau,/en/players/horia-tecau/t749/overview,horia-tecau,t749']\n"
     ]
    }
   ],
   "source": [
    "firstfive = !head -n 5 {'tennis/tournaments.csv'}\n",
    "print(firstfive)"
   ]
  },
  {
   "cell_type": "code",
   "execution_count": 18,
   "metadata": {},
   "outputs": [
    {
     "data": {
      "text/html": [
       "<div>\n",
       "<style scoped>\n",
       "    .dataframe tbody tr th:only-of-type {\n",
       "        vertical-align: middle;\n",
       "    }\n",
       "\n",
       "    .dataframe tbody tr th {\n",
       "        vertical-align: top;\n",
       "    }\n",
       "\n",
       "    .dataframe thead th {\n",
       "        text-align: right;\n",
       "    }\n",
       "</style>\n",
       "<table border=\"1\" class=\"dataframe\">\n",
       "  <thead>\n",
       "    <tr style=\"text-align: right;\">\n",
       "      <th></th>\n",
       "      <th>2010-339</th>\n",
       "      <th>1</th>\n",
       "      <th>ATP 250</th>\n",
       "      <th>Brisbane</th>\n",
       "      <th>339</th>\n",
       "      <th>brisbane</th>\n",
       "      <th>Brisbane.1</th>\n",
       "      <th>2010.01.03</th>\n",
       "      <th>2010</th>\n",
       "      <th>1.1</th>\n",
       "      <th>...</th>\n",
       "      <th>andy-roddick</th>\n",
       "      <th>r485</th>\n",
       "      <th>Jeremy Chardy</th>\n",
       "      <th>/en/players/jeremy-chardy/ca12/overview</th>\n",
       "      <th>jeremy-chardy</th>\n",
       "      <th>ca12</th>\n",
       "      <th>Marc Gicquel</th>\n",
       "      <th>/en/players/marc-gicquel/g436/overview</th>\n",
       "      <th>marc-gicquel</th>\n",
       "      <th>g436</th>\n",
       "    </tr>\n",
       "  </thead>\n",
       "  <tbody>\n",
       "    <tr>\n",
       "      <th>0</th>\n",
       "      <td>2010-451</td>\n",
       "      <td>2</td>\n",
       "      <td>ATP 250</td>\n",
       "      <td>Doha</td>\n",
       "      <td>451</td>\n",
       "      <td>doha</td>\n",
       "      <td>Doha</td>\n",
       "      <td>2010.01.04</td>\n",
       "      <td>2010</td>\n",
       "      <td>1</td>\n",
       "      <td>...</td>\n",
       "      <td>nikolay-davydenko</td>\n",
       "      <td>d402</td>\n",
       "      <td>Guillermo Garcia-Lopez</td>\n",
       "      <td>/en/players/guillermo-garcia-lopez/g476/overview</td>\n",
       "      <td>guillermo-garcia-lopez</td>\n",
       "      <td>g476</td>\n",
       "      <td>Albert Montanes</td>\n",
       "      <td>/en/players/albert-montanes/m824/overview</td>\n",
       "      <td>albert-montanes</td>\n",
       "      <td>m824</td>\n",
       "    </tr>\n",
       "    <tr>\n",
       "      <th>1</th>\n",
       "      <td>2010-891</td>\n",
       "      <td>3</td>\n",
       "      <td>ATP 250</td>\n",
       "      <td>Chennai</td>\n",
       "      <td>891</td>\n",
       "      <td>chennai</td>\n",
       "      <td>Chennai</td>\n",
       "      <td>2010.01.04</td>\n",
       "      <td>2010</td>\n",
       "      <td>1</td>\n",
       "      <td>...</td>\n",
       "      <td>marin-cilic</td>\n",
       "      <td>c977</td>\n",
       "      <td>Marcel Granollers</td>\n",
       "      <td>/en/players/marcel-granollers/g710/overview</td>\n",
       "      <td>marcel-granollers</td>\n",
       "      <td>g710</td>\n",
       "      <td>Santiago Ventura</td>\n",
       "      <td>/en/players/santiago-ventura/v251/overview</td>\n",
       "      <td>santiago-ventura</td>\n",
       "      <td>v251</td>\n",
       "    </tr>\n",
       "    <tr>\n",
       "      <th>2</th>\n",
       "      <td>2010-338</td>\n",
       "      <td>4</td>\n",
       "      <td>ATP 250</td>\n",
       "      <td>Sydney</td>\n",
       "      <td>338</td>\n",
       "      <td>sydney</td>\n",
       "      <td>Sydney</td>\n",
       "      <td>2010.01.11</td>\n",
       "      <td>2010</td>\n",
       "      <td>1</td>\n",
       "      <td>...</td>\n",
       "      <td>marcos-baghdatis</td>\n",
       "      <td>b837</td>\n",
       "      <td>Daniel Nestor</td>\n",
       "      <td>/en/players/daniel-nestor/n210/overview</td>\n",
       "      <td>daniel-nestor</td>\n",
       "      <td>n210</td>\n",
       "      <td>Nenad Zimonjic</td>\n",
       "      <td>/en/players/nenad-zimonjic/z072/overview</td>\n",
       "      <td>nenad-zimonjic</td>\n",
       "      <td>z072</td>\n",
       "    </tr>\n",
       "    <tr>\n",
       "      <th>3</th>\n",
       "      <td>2010-301</td>\n",
       "      <td>5</td>\n",
       "      <td>ATP 250</td>\n",
       "      <td>Auckland</td>\n",
       "      <td>301</td>\n",
       "      <td>auckland</td>\n",
       "      <td>Auckland</td>\n",
       "      <td>2010.01.11</td>\n",
       "      <td>2010</td>\n",
       "      <td>1</td>\n",
       "      <td>...</td>\n",
       "      <td>john-isner</td>\n",
       "      <td>i186</td>\n",
       "      <td>Marcus Daniell</td>\n",
       "      <td>/en/players/marcus-daniell/d763/overview</td>\n",
       "      <td>marcus-daniell</td>\n",
       "      <td>d763</td>\n",
       "      <td>Horia Tecau</td>\n",
       "      <td>/en/players/horia-tecau/t749/overview</td>\n",
       "      <td>horia-tecau</td>\n",
       "      <td>t749</td>\n",
       "    </tr>\n",
       "    <tr>\n",
       "      <th>4</th>\n",
       "      <td>2010-580</td>\n",
       "      <td>6</td>\n",
       "      <td>Grand Slam</td>\n",
       "      <td>Australian Open</td>\n",
       "      <td>580</td>\n",
       "      <td>australian-open</td>\n",
       "      <td>Melbourne</td>\n",
       "      <td>2010.01.18</td>\n",
       "      <td>2010</td>\n",
       "      <td>1</td>\n",
       "      <td>...</td>\n",
       "      <td>roger-federer</td>\n",
       "      <td>f324</td>\n",
       "      <td>Bob Bryan</td>\n",
       "      <td>/en/players/bob-bryan/b588/overview</td>\n",
       "      <td>bob-bryan</td>\n",
       "      <td>b588</td>\n",
       "      <td>Mike Bryan</td>\n",
       "      <td>/en/players/mike-bryan/b589/overview</td>\n",
       "      <td>mike-bryan</td>\n",
       "      <td>b589</td>\n",
       "    </tr>\n",
       "  </tbody>\n",
       "</table>\n",
       "<p>5 rows × 31 columns</p>\n",
       "</div>"
      ],
      "text/plain": [
       "   2010-339  1     ATP 250         Brisbane  339         brisbane Brisbane.1  \\\n",
       "0  2010-451  2     ATP 250             Doha  451             doha       Doha   \n",
       "1  2010-891  3     ATP 250          Chennai  891          chennai    Chennai   \n",
       "2  2010-338  4     ATP 250           Sydney  338           sydney     Sydney   \n",
       "3  2010-301  5     ATP 250         Auckland  301         auckland   Auckland   \n",
       "4  2010-580  6  Grand Slam  Australian Open  580  australian-open  Melbourne   \n",
       "\n",
       "   2010.01.03  2010  1.1  ...       andy-roddick  r485  \\\n",
       "0  2010.01.04  2010    1  ...  nikolay-davydenko  d402   \n",
       "1  2010.01.04  2010    1  ...        marin-cilic  c977   \n",
       "2  2010.01.11  2010    1  ...   marcos-baghdatis  b837   \n",
       "3  2010.01.11  2010    1  ...         john-isner  i186   \n",
       "4  2010.01.18  2010    1  ...      roger-federer  f324   \n",
       "\n",
       "            Jeremy Chardy           /en/players/jeremy-chardy/ca12/overview  \\\n",
       "0  Guillermo Garcia-Lopez  /en/players/guillermo-garcia-lopez/g476/overview   \n",
       "1       Marcel Granollers       /en/players/marcel-granollers/g710/overview   \n",
       "2           Daniel Nestor           /en/players/daniel-nestor/n210/overview   \n",
       "3          Marcus Daniell          /en/players/marcus-daniell/d763/overview   \n",
       "4               Bob Bryan               /en/players/bob-bryan/b588/overview   \n",
       "\n",
       "            jeremy-chardy  ca12      Marc Gicquel  \\\n",
       "0  guillermo-garcia-lopez  g476   Albert Montanes   \n",
       "1       marcel-granollers  g710  Santiago Ventura   \n",
       "2           daniel-nestor  n210    Nenad Zimonjic   \n",
       "3          marcus-daniell  d763       Horia Tecau   \n",
       "4               bob-bryan  b588        Mike Bryan   \n",
       "\n",
       "       /en/players/marc-gicquel/g436/overview      marc-gicquel  g436  \n",
       "0   /en/players/albert-montanes/m824/overview   albert-montanes  m824  \n",
       "1  /en/players/santiago-ventura/v251/overview  santiago-ventura  v251  \n",
       "2    /en/players/nenad-zimonjic/z072/overview    nenad-zimonjic  z072  \n",
       "3       /en/players/horia-tecau/t749/overview       horia-tecau  t749  \n",
       "4        /en/players/mike-bryan/b589/overview        mike-bryan  b589  \n",
       "\n",
       "[5 rows x 31 columns]"
      ]
     },
     "execution_count": 18,
     "metadata": {},
     "output_type": "execute_result"
    }
   ],
   "source": [
    "# more readble format for csv file\n",
    "import pandas as pd\n",
    "data = pd.read_csv('tennis/tournaments.csv')\n",
    "data.head()"
   ]
  },
  {
   "cell_type": "markdown",
   "metadata": {},
   "source": [
    "**10. Since you know how to use git; write a bash command where you commit the changes in your code with a comment and then push it to a remote Github repository.**"
   ]
  },
  {
   "cell_type": "code",
   "execution_count": 14,
   "metadata": {},
   "outputs": [
    {
     "name": "stdout",
     "output_type": "stream",
     "text": [
      "On branch master\r\n",
      "Your branch is up to date with 'origin/master'.\r\n",
      "\r\n",
      "Untracked files:\r\n",
      "  (use \"git add <file>...\" to include in what will be committed)\r\n",
      "\r\n",
      "\t\u001b[31mModule9_Assignment.ipynb\u001b[m\r\n",
      "\t\u001b[31mtennis/\u001b[m\r\n",
      "\t\u001b[31mtmp.txt\u001b[m\r\n",
      "\r\n",
      "nothing added to commit but untracked files present (use \"git add\" to track)\r\n"
     ]
    }
   ],
   "source": [
    "# check git status\n",
    "!git status"
   ]
  },
  {
   "cell_type": "code",
   "execution_count": 15,
   "metadata": {},
   "outputs": [
    {
     "name": "stdout",
     "output_type": "stream",
     "text": [
      "[master d7dbd68] Adding assignment files for module 9\n",
      " 4 files changed, 1484 insertions(+)\n",
      " create mode 100644 .ipynb_checkpoints/Module9_Assignment-checkpoint.ipynb\n",
      " create mode 100644 Module9_Assignment.ipynb\n",
      " create mode 100644 tennis/tournaments.csv\n",
      " create mode 100644 tmp.txt\n",
      "Counting objects: 7, done.\n",
      "Compressing objects: 100% (5/5), done.\n",
      "Writing objects: 100% (7/7), 38.12 KiB | 2.54 MiB/s, done.\n",
      "Total 7 (delta 0), reused 0 (delta 0)\n",
      "To https://github.com/ctc7by/module9.git\n",
      "   c34b16a..d7dbd68  master -> master\n"
     ]
    }
   ],
   "source": [
    "# add files to commit\n",
    "!git add -A\n",
    "# commit files with comment\n",
    "!git commit -m \"Adding assignment files for module 9\"\n",
    "# push to github\n",
    "!git push"
   ]
  },
  {
   "cell_type": "markdown",
   "metadata": {},
   "source": [
    "github - https://github.com/ctc7by/module9"
   ]
  }
 ],
 "metadata": {
  "kernelspec": {
   "display_name": "Python 3",
   "language": "python",
   "name": "python3"
  },
  "language_info": {
   "codemirror_mode": {
    "name": "ipython",
    "version": 3
   },
   "file_extension": ".py",
   "mimetype": "text/x-python",
   "name": "python",
   "nbconvert_exporter": "python",
   "pygments_lexer": "ipython3",
   "version": "3.7.6"
  }
 },
 "nbformat": 4,
 "nbformat_minor": 4
}
